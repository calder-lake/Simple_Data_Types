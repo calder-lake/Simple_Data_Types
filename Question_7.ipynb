{
 "cells": [
  {
   "cell_type": "code",
   "execution_count": 1,
   "id": "3627857e-09ab-461f-a15e-02d89947b4f4",
   "metadata": {},
   "outputs": [
    {
     "name": "stdout",
     "output_type": "stream",
     "text": [
      "<class 'int'>\n"
     ]
    }
   ],
   "source": [
    "#Question 7\n",
    "#Write a variable for \"Medication\" and assign it an integer value of 5. Print the type of the variable.\n",
    "Medication= 5\n",
    "print(type(Medication))"
   ]
  },
  {
   "cell_type": "code",
   "execution_count": null,
   "id": "8e615e67-e95c-4d21-b64f-8375d7091db0",
   "metadata": {},
   "outputs": [],
   "source": []
  }
 ],
 "metadata": {
  "kernelspec": {
   "display_name": "Python 3 (ipykernel)",
   "language": "python",
   "name": "python3"
  },
  "language_info": {
   "codemirror_mode": {
    "name": "ipython",
    "version": 3
   },
   "file_extension": ".py",
   "mimetype": "text/x-python",
   "name": "python",
   "nbconvert_exporter": "python",
   "pygments_lexer": "ipython3",
   "version": "3.13.7"
  }
 },
 "nbformat": 4,
 "nbformat_minor": 5
}
