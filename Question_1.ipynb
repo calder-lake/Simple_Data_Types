{
 "cells": [
  {
   "cell_type": "code",
   "execution_count": null,
   "id": "032db034-cb63-46c5-952f-babf82b2a7cb",
   "metadata": {},
   "outputs": [],
   "source": []
  }
 ],
 "metadata": {
  "kernelspec": {
   "display_name": "",
   "name": ""
  },
  "language_info": {
   "name": ""
  }
 },
 "nbformat": 4,
 "nbformat_minor": 5
}
