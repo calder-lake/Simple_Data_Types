{
 "cells": [
  {
   "cell_type": "code",
   "execution_count": 1,
   "id": "7235eff1-4ad0-4ee5-9f4c-b614efb28166",
   "metadata": {},
   "outputs": [
    {
     "name": "stdout",
     "output_type": "stream",
     "text": [
      " \n"
     ]
    }
   ],
   "source": [
    "#Question 5\n",
    "#Strings\n",
    "strings= \"E. Coli\"\n",
    "print(strings[2])"
   ]
  },
  {
   "cell_type": "code",
   "execution_count": null,
   "id": "285409c1-5b9f-40bd-998e-974f8bc86824",
   "metadata": {},
   "outputs": [],
   "source": []
  }
 ],
 "metadata": {
  "kernelspec": {
   "display_name": "Python 3 (ipykernel)",
   "language": "python",
   "name": "python3"
  },
  "language_info": {
   "codemirror_mode": {
    "name": "ipython",
    "version": 3
   },
   "file_extension": ".py",
   "mimetype": "text/x-python",
   "name": "python",
   "nbconvert_exporter": "python",
   "pygments_lexer": "ipython3",
   "version": "3.13.7"
  }
 },
 "nbformat": 4,
 "nbformat_minor": 5
}
