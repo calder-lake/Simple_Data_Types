{
 "cells": [
  {
   "cell_type": "code",
   "execution_count": 1,
   "id": "c6e7de1e-8ed8-4ca3-ba9f-0037aa47b451",
   "metadata": {},
   "outputs": [
    {
     "name": "stdout",
     "output_type": "stream",
     "text": [
      "apple\n",
      "<class 'str'>\n",
      "6\n",
      "<class 'int'>\n"
     ]
    }
   ],
   "source": [
    "#Question 9\n",
    "#Operators 2\n",
    "#Demonstrating the difference between the \"+\" operation for strings compared to integers\n",
    "string= \"a\"+\"p\"+\"p\"+\"l\"+\"e\"\n",
    "addition= 1+2+3\n",
    "print(string)\n",
    "print(type(string))\n",
    "print(addition)\n",
    "print(type(addition))"
   ]
  },
  {
   "cell_type": "code",
   "execution_count": null,
   "id": "fc409f70-7996-4ddd-95a7-13b3a4c26337",
   "metadata": {},
   "outputs": [],
   "source": []
  }
 ],
 "metadata": {
  "kernelspec": {
   "display_name": "Python 3 (ipykernel)",
   "language": "python",
   "name": "python3"
  },
  "language_info": {
   "codemirror_mode": {
    "name": "ipython",
    "version": 3
   },
   "file_extension": ".py",
   "mimetype": "text/x-python",
   "name": "python",
   "nbconvert_exporter": "python",
   "pygments_lexer": "ipython3",
   "version": "3.13.7"
  }
 },
 "nbformat": 4,
 "nbformat_minor": 5
}
