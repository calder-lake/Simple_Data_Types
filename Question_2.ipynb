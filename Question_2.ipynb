{
 "cells": [
  {
   "cell_type": "code",
   "execution_count": 1,
   "id": "32c0f6ba-4406-4af3-b54d-eefd595af7fa",
   "metadata": {},
   "outputs": [
    {
     "name": "stdout",
     "output_type": "stream",
     "text": [
      "1\n"
     ]
    }
   ],
   "source": [
    "#Question 2\n",
    "#logical tracker = True\n",
    "#logical tracker = logical tracker & logical tracker\n",
    "#logical tracker = logical tracker | (logical tracker - logical tracker)\n",
    "#logical tracker  = ?\n",
    "logical_tracker = True\n",
    "\n",
    "logical_tracker = logical_tracker & logical_tracker\n",
    "\n",
    "logical_tracker = logical_tracker | (logical_tracker - logical_tracker)\n",
    "\n",
    "print(logical_tracker)"
   ]
  }
 ],
 "metadata": {
  "kernelspec": {
   "display_name": "Python 3 (ipykernel)",
   "language": "python",
   "name": "python3"
  },
  "language_info": {
   "codemirror_mode": {
    "name": "ipython",
    "version": 3
   },
   "file_extension": ".py",
   "mimetype": "text/x-python",
   "name": "python",
   "nbconvert_exporter": "python",
   "pygments_lexer": "ipython3",
   "version": "3.13.7"
  }
 },
 "nbformat": 4,
 "nbformat_minor": 5
}
