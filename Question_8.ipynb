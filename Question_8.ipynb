{
 "cells": [
  {
   "cell_type": "code",
   "execution_count": 1,
   "id": "b3ccdcf6-4b74-4fc7-82db-3a3844eaa771",
   "metadata": {},
   "outputs": [
    {
     "name": "stdout",
     "output_type": "stream",
     "text": [
      "24.034609838166958\n",
      "<class 'float'>\n"
     ]
    }
   ],
   "source": [
    "#Question 8\n",
    "#Calculate Susan's BMI and report as float\n",
    "weight= 60\n",
    "height= 1.58\n",
    "def BMI(weight, height):\n",
    "    return(weight/height**2)\n",
    "Susan_BMI= BMI(weight, height)\n",
    "print(Susan_BMI)\n",
    "print(type(Susan_BMI))"
   ]
  },
  {
   "cell_type": "code",
   "execution_count": null,
   "id": "1aed54e6-5512-489e-bf43-42606d20b7f6",
   "metadata": {},
   "outputs": [],
   "source": []
  }
 ],
 "metadata": {
  "kernelspec": {
   "display_name": "Python 3 (ipykernel)",
   "language": "python",
   "name": "python3"
  },
  "language_info": {
   "codemirror_mode": {
    "name": "ipython",
    "version": 3
   },
   "file_extension": ".py",
   "mimetype": "text/x-python",
   "name": "python",
   "nbconvert_exporter": "python",
   "pygments_lexer": "ipython3",
   "version": "3.13.7"
  }
 },
 "nbformat": 4,
 "nbformat_minor": 5
}
